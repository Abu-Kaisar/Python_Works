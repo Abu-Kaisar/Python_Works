{
 "cells": [
  {
   "cell_type": "code",
   "execution_count": 1,
   "id": "dc73b7b5",
   "metadata": {},
   "outputs": [],
   "source": [
    "pop = [30.5, 45.2, 16.88, 26.85]\n",
    "crnts = [\"afganistan\", \"india\", \"bangladesh\", \"albenia\"]\n"
   ]
  },
  {
   "cell_type": "code",
   "execution_count": 2,
   "id": "d13ac3b2",
   "metadata": {},
   "outputs": [
    {
     "name": "stdout",
     "output_type": "stream",
     "text": [
      "30.5\n",
      "45.2\n",
      "16.88\n",
      "26.85\n"
     ]
    }
   ],
   "source": [
    "for i in pop:\n",
    "    print(i)"
   ]
  },
  {
   "cell_type": "code",
   "execution_count": 5,
   "id": "24f75ab9",
   "metadata": {},
   "outputs": [
    {
     "name": "stdout",
     "output_type": "stream",
     "text": [
      "1 30.5\n",
      "2 45.2\n",
      "3 16.88\n",
      "4 26.85\n"
     ]
    }
   ],
   "source": [
    "for i,v in enumerate(pop):\n",
    "    print(i+1,v)"
   ]
  },
  {
   "cell_type": "code",
   "execution_count": null,
   "id": "12c55a62",
   "metadata": {},
   "outputs": [],
   "source": []
  }
 ],
 "metadata": {
  "kernelspec": {
   "display_name": "Python 3 (ipykernel)",
   "language": "python",
   "name": "python3"
  },
  "language_info": {
   "codemirror_mode": {
    "name": "ipython",
    "version": 3
   },
   "file_extension": ".py",
   "mimetype": "text/x-python",
   "name": "python",
   "nbconvert_exporter": "python",
   "pygments_lexer": "ipython3",
   "version": "3.9.7"
  }
 },
 "nbformat": 4,
 "nbformat_minor": 5
}
