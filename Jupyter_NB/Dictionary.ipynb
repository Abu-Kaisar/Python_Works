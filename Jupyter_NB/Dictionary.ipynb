{
 "cells": [
  {
   "cell_type": "code",
   "execution_count": 1,
   "id": "464132ea",
   "metadata": {},
   "outputs": [
    {
     "data": {
      "text/plain": [
       "3"
      ]
     },
     "execution_count": 1,
     "metadata": {},
     "output_type": "execute_result"
    }
   ],
   "source": [
    "pop = [30.5, 45.2, 16.88, 26.85]\n",
    "crnts = [\"afganistan\", \"india\", \"bangladesh\", \"albenia\"]\n",
    "ind_alb = crnts.index(\"albenia\")\n",
    "ind_alb"
   ]
  },
  {
   "cell_type": "markdown",
   "id": "13341e91",
   "metadata": {},
   "source": [
    "pop[ind_alb]"
   ]
  },
  {
   "cell_type": "markdown",
   "id": "acd2e42f",
   "metadata": {},
   "source": [
    "### bad list"
   ]
  },
  {
   "cell_type": "markdown",
   "id": "7d24bdce",
   "metadata": {},
   "source": [
    "## Replaced by Dictionary\n"
   ]
  },
  {
   "cell_type": "code",
   "execution_count": 5,
   "id": "c5e784bf",
   "metadata": {},
   "outputs": [],
   "source": [
    "world = {\n",
    "    \"afganistan\":30.5, \n",
    "    \"india\":45.2, \n",
    "    \"bangladesh\":16.85, \n",
    "    \"albenia\":26.8\n",
    "}"
   ]
  },
  {
   "cell_type": "code",
   "execution_count": 6,
   "id": "c468ef77",
   "metadata": {},
   "outputs": [
    {
     "data": {
      "text/plain": [
       "26.8"
      ]
     },
     "execution_count": 6,
     "metadata": {},
     "output_type": "execute_result"
    }
   ],
   "source": [
    "world[\"albenia\"]"
   ]
  },
  {
   "cell_type": "markdown",
   "id": "9b024eb4",
   "metadata": {},
   "source": [
    "## Easy\n"
   ]
  },
  {
   "cell_type": "code",
   "execution_count": null,
   "id": "30165440",
   "metadata": {},
   "outputs": [],
   "source": []
  }
 ],
 "metadata": {
  "kernelspec": {
   "display_name": "Python 3 (ipykernel)",
   "language": "python",
   "name": "python3"
  },
  "language_info": {
   "codemirror_mode": {
    "name": "ipython",
    "version": 3
   },
   "file_extension": ".py",
   "mimetype": "text/x-python",
   "name": "python",
   "nbconvert_exporter": "python",
   "pygments_lexer": "ipython3",
   "version": "3.9.7"
  }
 },
 "nbformat": 4,
 "nbformat_minor": 5
}
